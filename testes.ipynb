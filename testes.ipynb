{
 "cells": [
  {
   "cell_type": "code",
   "execution_count": 3,
   "id": "3ba91d20",
   "metadata": {},
   "outputs": [],
   "source": [
    "import pandas as pd\n",
    "import numpy as np\n",
    "import os\n",
    "\n",
    "path = os.path.abspath('datasets/')\n",
    "\n",
    "dataframes_dict = {\n",
    "    'df_gas_price_brazil': pd.read_csv(path+'/gas_prices_brazil/2004-2021.tsv', sep='\\t'),\n",
    "    'df_amazon_sales': pd.read_csv(path+'/amazon_sales/amazon.csv', encoding='latin-1'),\n",
    "    'df_average_car_prices_brazil_2022': pd.read_csv(path+'/avarage_car_prices_brazil_2022/fipe_2022.csv'),\n",
    "    'df_average_car_prices_brazil': pd.read_csv(path+'/avarage_car_prices_brazil_2022/fipe_cars.csv'),\n",
    "    'df_house_pricing_belo_horizonte_brazil': pd.read_csv(path+'/house_pricing_belo_horizonte_brazil/data.csv'),\n",
    "    'df_house_pricing_aracaju_brazil': pd.read_csv(path+'/housing_price_aracaju_brazil/house_prices_aracaju_v2.csv'),\n",
    "    'df_housing_pricing_sao_paulo_brazil': pd.read_csv(path+'/housing_princing_sao_paulo_brazil/housing_sp_city.csv', encoding='latin-1'),\n",
    "    'df_temperature_recife': pd.read_csv(path+'/temperature-time-series-brazil/station_recife.csv'),\n",
    "    'df_temperature_fortaleza': pd.read_csv(path+'/temperature-time-series-brazil/station_fortaleza.csv'),\n",
    "    'df_temperature_manaus': pd.read_csv(path+'/temperature-time-series-brazil/station_manaus.csv'),\n",
    "    'df_temperature_goiania': pd.read_csv(path+'/temperature-time-series-brazil/station_goiania.csv')\n",
    "}"
   ]
  },
  {
   "cell_type": "code",
   "execution_count": 7,
   "id": "0e8353e3",
   "metadata": {},
   "outputs": [
    {
     "ename": "",
     "evalue": "",
     "output_type": "error",
     "traceback": [
      "\u001b[1;31mO Kernel falhou ao executar o código na célula atual ou em uma célula anterior. Examine o código nas células para identificar uma possível causa da falha. Clique <a href=\"https://aka.ms/vscodeJupyterKernelCrash\">aqui</a> para obter mais informações. Consulte o <a href='command:jupyter.viewOutput'>log</a> do Jupyter para obter mais detalhes."
     ]
    },
    {
     "ename": "",
     "evalue": "",
     "output_type": "error",
     "traceback": [
      "\u001b[1;31mO Kernel falhou ao executar o código na célula atual ou em uma célula anterior. Examine o código nas células para identificar uma possível causa da falha. Clique <a href=\"https://aka.ms/vscodeJupyterKernelCrash\">aqui</a> para obter mais informações. Consulte o <a href='command:jupyter.viewOutput'>log</a> do Jupyter para obter mais detalhes."
     ]
    },
    {
     "ename": "",
     "evalue": "",
     "output_type": "error",
     "traceback": [
      "\u001b[1;31mCanceled future for execute_request message before replies were done"
     ]
    }
   ],
   "source": [
    "from pymfe.mfe import MFE\n",
    "from pymfe.general import MFEGeneral\n",
    "\n",
    "result_dict = {}\n",
    "for key, value in dataframes_dict.items():\n",
    "    mfeGeneral = MFEGeneral()\n",
    "    numeric_atrr = mfeGeneral.ft_nr_attr(value)\n",
    "    number_of_instances = mfeGeneral.ft_nr_inst(value)\n",
    "    ratio_instances_attr = mfeGeneral.ft_inst_to_attr(value)\n",
    "    number_bin = mfeGeneral.ft_nr_bin(value)\n",
    "    ratio_attr = mfeGeneral.ft_attr_to_inst(value)\n",
    "\n",
    "    result_dict[key] = {\n",
    "        'numeric_atrr': numeric_atrr,\n",
    "        'number_of_instances': number_of_instances,\n",
    "        'ratio_instances_attr': ratio_instances_attr,\n",
    "        'number_bin': number_bin,\n",
    "        'ratio_attr': ratio_attr\n",
    "    }\n",
    "\n",
    "result_dict"
   ]
  },
  {
   "cell_type": "code",
   "execution_count": 8,
   "id": "fdd9701f",
   "metadata": {},
   "outputs": [
    {
     "data": {
      "text/plain": [
       "120823"
      ]
     },
     "execution_count": 8,
     "metadata": {},
     "output_type": "execute_result"
    }
   ],
   "source": [
    "from pymfe.mfe import MFE\n",
    "from pymfe.general import MFEGeneral\n",
    "\n",
    "X = df_gas_price_brazil\n",
    "\n",
    "# Extract all available measures\n",
    "mfeGeneral = MFEGeneral()\n",
    "numeric_attributs = mfeGeneral.ft_nr_attr(X)\n",
    "number_of_instances = mfeGeneral.ft_nr_inst(X)\n",
    "number_of_instances\n",
    "\n",
    "\n",
    "# mfe = MFE()\n",
    "# mfe.fit(X, y)\n",
    "# ft = mfe.extract()\n",
    "# table = pd.DataFrame({'Key':ft[0], 'Value':ft[1]})\n",
    "# table"
   ]
  }
 ],
 "metadata": {
  "kernelspec": {
   "display_name": "Python 3 (ipykernel)",
   "language": "python",
   "name": "python3"
  },
  "language_info": {
   "codemirror_mode": {
    "name": "ipython",
    "version": 3
   },
   "file_extension": ".py",
   "mimetype": "text/x-python",
   "name": "python",
   "nbconvert_exporter": "python",
   "pygments_lexer": "ipython3",
   "version": "3.8.10"
  }
 },
 "nbformat": 4,
 "nbformat_minor": 5
}
